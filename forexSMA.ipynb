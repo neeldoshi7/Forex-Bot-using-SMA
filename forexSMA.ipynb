{
  "nbformat": 4,
  "nbformat_minor": 0,
  "metadata": {
    "colab": {
      "name": "forexSMA.ipynb",
      "provenance": [],
      "collapsed_sections": []
    },
    "kernelspec": {
      "name": "python3",
      "display_name": "Python 3"
    }
  },
  "cells": [
    {
      "cell_type": "code",
      "metadata": {
        "id": "d2nA33jY4Yi3",
        "colab_type": "code",
        "outputId": "4085e27a-8067-4ce2-e99c-167f18966495",
        "colab": {
          "base_uri": "https://localhost:8080/",
          "height": 71
        }
      },
      "source": [
        "import numpy as np \n",
        "import pandas as pd\n",
        "import matplotlib.pyplot as plt\n",
        "import seaborn as sns"
      ],
      "execution_count": 0,
      "outputs": [
        {
          "output_type": "stream",
          "text": [
            "/usr/local/lib/python3.6/dist-packages/statsmodels/tools/_testing.py:19: FutureWarning: pandas.util.testing is deprecated. Use the functions in the public API at pandas.testing instead.\n",
            "  import pandas.util.testing as tm\n"
          ],
          "name": "stderr"
        }
      ]
    },
    {
      "cell_type": "code",
      "metadata": {
        "id": "JESJJvwr57fz",
        "colab_type": "code",
        "outputId": "2351f6a3-ccde-4a89-b1e1-f921ff8a07fd",
        "colab": {
          "base_uri": "https://localhost:8080/",
          "height": 203
        }
      },
      "source": [
        "forex_data = pd.read_csv('INRUSD.csv')\n",
        "forex_data.head()"
      ],
      "execution_count": 0,
      "outputs": [
        {
          "output_type": "execute_result",
          "data": {
            "text/html": [
              "<div>\n",
              "<style scoped>\n",
              "    .dataframe tbody tr th:only-of-type {\n",
              "        vertical-align: middle;\n",
              "    }\n",
              "\n",
              "    .dataframe tbody tr th {\n",
              "        vertical-align: top;\n",
              "    }\n",
              "\n",
              "    .dataframe thead th {\n",
              "        text-align: right;\n",
              "    }\n",
              "</style>\n",
              "<table border=\"1\" class=\"dataframe\">\n",
              "  <thead>\n",
              "    <tr style=\"text-align: right;\">\n",
              "      <th></th>\n",
              "      <th>Date</th>\n",
              "      <th>Open</th>\n",
              "      <th>High</th>\n",
              "      <th>Low</th>\n",
              "      <th>Close</th>\n",
              "      <th>Adj Close</th>\n",
              "      <th>Volume</th>\n",
              "    </tr>\n",
              "  </thead>\n",
              "  <tbody>\n",
              "    <tr>\n",
              "      <th>0</th>\n",
              "      <td>20-05-2015</td>\n",
              "      <td>63.780998</td>\n",
              "      <td>63.873001</td>\n",
              "      <td>63.400002</td>\n",
              "      <td>63.785000</td>\n",
              "      <td>63.785000</td>\n",
              "      <td>0</td>\n",
              "    </tr>\n",
              "    <tr>\n",
              "      <th>1</th>\n",
              "      <td>21-05-2015</td>\n",
              "      <td>63.624001</td>\n",
              "      <td>63.743000</td>\n",
              "      <td>63.502998</td>\n",
              "      <td>63.625000</td>\n",
              "      <td>63.625000</td>\n",
              "      <td>0</td>\n",
              "    </tr>\n",
              "    <tr>\n",
              "      <th>2</th>\n",
              "      <td>22-05-2015</td>\n",
              "      <td>63.630001</td>\n",
              "      <td>63.673000</td>\n",
              "      <td>63.389999</td>\n",
              "      <td>63.625999</td>\n",
              "      <td>63.625999</td>\n",
              "      <td>0</td>\n",
              "    </tr>\n",
              "    <tr>\n",
              "      <th>3</th>\n",
              "      <td>25-05-2015</td>\n",
              "      <td>63.483002</td>\n",
              "      <td>63.660000</td>\n",
              "      <td>63.470001</td>\n",
              "      <td>63.483002</td>\n",
              "      <td>63.483002</td>\n",
              "      <td>0</td>\n",
              "    </tr>\n",
              "    <tr>\n",
              "      <th>4</th>\n",
              "      <td>26-05-2015</td>\n",
              "      <td>63.606998</td>\n",
              "      <td>64.013000</td>\n",
              "      <td>63.470001</td>\n",
              "      <td>63.570999</td>\n",
              "      <td>63.570999</td>\n",
              "      <td>0</td>\n",
              "    </tr>\n",
              "  </tbody>\n",
              "</table>\n",
              "</div>"
            ],
            "text/plain": [
              "         Date       Open       High        Low      Close  Adj Close  Volume\n",
              "0  20-05-2015  63.780998  63.873001  63.400002  63.785000  63.785000       0\n",
              "1  21-05-2015  63.624001  63.743000  63.502998  63.625000  63.625000       0\n",
              "2  22-05-2015  63.630001  63.673000  63.389999  63.625999  63.625999       0\n",
              "3  25-05-2015  63.483002  63.660000  63.470001  63.483002  63.483002       0\n",
              "4  26-05-2015  63.606998  64.013000  63.470001  63.570999  63.570999       0"
            ]
          },
          "metadata": {
            "tags": []
          },
          "execution_count": 22
        }
      ]
    },
    {
      "cell_type": "code",
      "metadata": {
        "id": "gurdcZSD6FJT",
        "colab_type": "code",
        "outputId": "ec4f5654-0260-4d60-df32-6162da2802da",
        "colab": {
          "base_uri": "https://localhost:8080/",
          "height": 223
        }
      },
      "source": [
        "X = forex_data.iloc[:500, 4]\n",
        "X"
      ],
      "execution_count": 0,
      "outputs": [
        {
          "output_type": "execute_result",
          "data": {
            "text/plain": [
              "0      63.785000\n",
              "1      63.625000\n",
              "2      63.625999\n",
              "3      63.483002\n",
              "4      63.570999\n",
              "         ...    \n",
              "495    64.629997\n",
              "496    64.500000\n",
              "497    64.449997\n",
              "498    64.453697\n",
              "499    64.408302\n",
              "Name: Close, Length: 500, dtype: float64"
            ]
          },
          "metadata": {
            "tags": []
          },
          "execution_count": 23
        }
      ]
    },
    {
      "cell_type": "code",
      "metadata": {
        "id": "qIMl7BOS6u8C",
        "colab_type": "code",
        "outputId": "f94c78aa-8c3c-4a59-b994-e255695961f6",
        "colab": {
          "base_uri": "https://localhost:8080/",
          "height": 223
        }
      },
      "source": [
        "y = forex_data.iloc[:500, 0]\n",
        "y"
      ],
      "execution_count": 0,
      "outputs": [
        {
          "output_type": "execute_result",
          "data": {
            "text/plain": [
              "0      20-05-2015\n",
              "1      21-05-2015\n",
              "2      22-05-2015\n",
              "3      25-05-2015\n",
              "4      26-05-2015\n",
              "          ...    \n",
              "495    12-04-2017\n",
              "496    13-04-2017\n",
              "497    14-04-2017\n",
              "498    17-04-2017\n",
              "499    18-04-2017\n",
              "Name: Date, Length: 500, dtype: object"
            ]
          },
          "metadata": {
            "tags": []
          },
          "execution_count": 24
        }
      ]
    },
    {
      "cell_type": "markdown",
      "metadata": {
        "id": "dYO7ypT27Ch9",
        "colab_type": "text"
      },
      "source": [
        "Visualisation"
      ]
    },
    {
      "cell_type": "code",
      "metadata": {
        "id": "ebjeRNqY7EPh",
        "colab_type": "code",
        "outputId": "c2059391-5c92-4385-ba4d-9f21425ab086",
        "colab": {
          "base_uri": "https://localhost:8080/",
          "height": 417
        }
      },
      "source": [
        "forex_data"
      ],
      "execution_count": 0,
      "outputs": [
        {
          "output_type": "execute_result",
          "data": {
            "text/html": [
              "<div>\n",
              "<style scoped>\n",
              "    .dataframe tbody tr th:only-of-type {\n",
              "        vertical-align: middle;\n",
              "    }\n",
              "\n",
              "    .dataframe tbody tr th {\n",
              "        vertical-align: top;\n",
              "    }\n",
              "\n",
              "    .dataframe thead th {\n",
              "        text-align: right;\n",
              "    }\n",
              "</style>\n",
              "<table border=\"1\" class=\"dataframe\">\n",
              "  <thead>\n",
              "    <tr style=\"text-align: right;\">\n",
              "      <th></th>\n",
              "      <th>Date</th>\n",
              "      <th>Open</th>\n",
              "      <th>High</th>\n",
              "      <th>Low</th>\n",
              "      <th>Close</th>\n",
              "      <th>Adj Close</th>\n",
              "      <th>Volume</th>\n",
              "    </tr>\n",
              "  </thead>\n",
              "  <tbody>\n",
              "    <tr>\n",
              "      <th>0</th>\n",
              "      <td>20-05-2015</td>\n",
              "      <td>63.780998</td>\n",
              "      <td>63.873001</td>\n",
              "      <td>63.400002</td>\n",
              "      <td>63.785000</td>\n",
              "      <td>63.785000</td>\n",
              "      <td>0</td>\n",
              "    </tr>\n",
              "    <tr>\n",
              "      <th>1</th>\n",
              "      <td>21-05-2015</td>\n",
              "      <td>63.624001</td>\n",
              "      <td>63.743000</td>\n",
              "      <td>63.502998</td>\n",
              "      <td>63.625000</td>\n",
              "      <td>63.625000</td>\n",
              "      <td>0</td>\n",
              "    </tr>\n",
              "    <tr>\n",
              "      <th>2</th>\n",
              "      <td>22-05-2015</td>\n",
              "      <td>63.630001</td>\n",
              "      <td>63.673000</td>\n",
              "      <td>63.389999</td>\n",
              "      <td>63.625999</td>\n",
              "      <td>63.625999</td>\n",
              "      <td>0</td>\n",
              "    </tr>\n",
              "    <tr>\n",
              "      <th>3</th>\n",
              "      <td>25-05-2015</td>\n",
              "      <td>63.483002</td>\n",
              "      <td>63.660000</td>\n",
              "      <td>63.470001</td>\n",
              "      <td>63.483002</td>\n",
              "      <td>63.483002</td>\n",
              "      <td>0</td>\n",
              "    </tr>\n",
              "    <tr>\n",
              "      <th>4</th>\n",
              "      <td>26-05-2015</td>\n",
              "      <td>63.606998</td>\n",
              "      <td>64.013000</td>\n",
              "      <td>63.470001</td>\n",
              "      <td>63.570999</td>\n",
              "      <td>63.570999</td>\n",
              "      <td>0</td>\n",
              "    </tr>\n",
              "    <tr>\n",
              "      <th>...</th>\n",
              "      <td>...</td>\n",
              "      <td>...</td>\n",
              "      <td>...</td>\n",
              "      <td>...</td>\n",
              "      <td>...</td>\n",
              "      <td>...</td>\n",
              "      <td>...</td>\n",
              "    </tr>\n",
              "    <tr>\n",
              "      <th>1298</th>\n",
              "      <td>14-05-2020</td>\n",
              "      <td>75.427200</td>\n",
              "      <td>75.730003</td>\n",
              "      <td>75.341003</td>\n",
              "      <td>75.426201</td>\n",
              "      <td>75.426201</td>\n",
              "      <td>0</td>\n",
              "    </tr>\n",
              "    <tr>\n",
              "      <th>1299</th>\n",
              "      <td>15-05-2020</td>\n",
              "      <td>75.485001</td>\n",
              "      <td>76.185501</td>\n",
              "      <td>75.319298</td>\n",
              "      <td>75.485001</td>\n",
              "      <td>75.485001</td>\n",
              "      <td>0</td>\n",
              "    </tr>\n",
              "    <tr>\n",
              "      <th>1300</th>\n",
              "      <td>18-05-2020</td>\n",
              "      <td>75.820000</td>\n",
              "      <td>76.092003</td>\n",
              "      <td>75.612396</td>\n",
              "      <td>75.820000</td>\n",
              "      <td>75.820000</td>\n",
              "      <td>0</td>\n",
              "    </tr>\n",
              "    <tr>\n",
              "      <th>1301</th>\n",
              "      <td>19-05-2020</td>\n",
              "      <td>75.599998</td>\n",
              "      <td>76.040001</td>\n",
              "      <td>75.527496</td>\n",
              "      <td>75.600098</td>\n",
              "      <td>75.600098</td>\n",
              "      <td>0</td>\n",
              "    </tr>\n",
              "    <tr>\n",
              "      <th>1302</th>\n",
              "      <td>20-05-2020</td>\n",
              "      <td>75.634003</td>\n",
              "      <td>75.862503</td>\n",
              "      <td>75.459999</td>\n",
              "      <td>75.510002</td>\n",
              "      <td>75.510002</td>\n",
              "      <td>0</td>\n",
              "    </tr>\n",
              "  </tbody>\n",
              "</table>\n",
              "<p>1303 rows × 7 columns</p>\n",
              "</div>"
            ],
            "text/plain": [
              "            Date       Open       High        Low      Close  Adj Close  Volume\n",
              "0     20-05-2015  63.780998  63.873001  63.400002  63.785000  63.785000       0\n",
              "1     21-05-2015  63.624001  63.743000  63.502998  63.625000  63.625000       0\n",
              "2     22-05-2015  63.630001  63.673000  63.389999  63.625999  63.625999       0\n",
              "3     25-05-2015  63.483002  63.660000  63.470001  63.483002  63.483002       0\n",
              "4     26-05-2015  63.606998  64.013000  63.470001  63.570999  63.570999       0\n",
              "...          ...        ...        ...        ...        ...        ...     ...\n",
              "1298  14-05-2020  75.427200  75.730003  75.341003  75.426201  75.426201       0\n",
              "1299  15-05-2020  75.485001  76.185501  75.319298  75.485001  75.485001       0\n",
              "1300  18-05-2020  75.820000  76.092003  75.612396  75.820000  75.820000       0\n",
              "1301  19-05-2020  75.599998  76.040001  75.527496  75.600098  75.600098       0\n",
              "1302  20-05-2020  75.634003  75.862503  75.459999  75.510002  75.510002       0\n",
              "\n",
              "[1303 rows x 7 columns]"
            ]
          },
          "metadata": {
            "tags": []
          },
          "execution_count": 25
        }
      ]
    },
    {
      "cell_type": "code",
      "metadata": {
        "id": "-e3R1gSe8XOa",
        "colab_type": "code",
        "outputId": "571f4c02-1745-4010-b6a2-c2585b551100",
        "colab": {
          "base_uri": "https://localhost:8080/",
          "height": 34
        }
      },
      "source": [
        "type(X)"
      ],
      "execution_count": 0,
      "outputs": [
        {
          "output_type": "execute_result",
          "data": {
            "text/plain": [
              "pandas.core.series.Series"
            ]
          },
          "metadata": {
            "tags": []
          },
          "execution_count": 26
        }
      ]
    },
    {
      "cell_type": "code",
      "metadata": {
        "id": "RjuZ1YXX8scp",
        "colab_type": "code",
        "outputId": "404b13e1-1b66-4ca4-86cb-8430d4ae8f8d",
        "colab": {
          "base_uri": "https://localhost:8080/",
          "height": 296
        }
      },
      "source": [
        "forex_data.plot.line(x=\"Date\",y=\"Close\")"
      ],
      "execution_count": 0,
      "outputs": [
        {
          "output_type": "execute_result",
          "data": {
            "text/plain": [
              "<matplotlib.axes._subplots.AxesSubplot at 0x7f6576446668>"
            ]
          },
          "metadata": {
            "tags": []
          },
          "execution_count": 27
        },
        {
          "output_type": "display_data",
          "data": {
            "image/png": "[encoded data removed]",
            "text/plain": [
              "<Figure size 432x288 with 1 Axes>"
            ]
          },
          "metadata": {
            "tags": [],
            "needs_background": "light"
          }
        }
      ]
    },
    {
      "cell_type": "code",
      "metadata": {
        "id": "KXhtQXLk-MEt",
        "colab_type": "code",
        "outputId": "593f52ca-9b6b-495b-c895-d144aec9238f",
        "colab": {
          "base_uri": "https://localhost:8080/",
          "height": 265
        }
      },
      "source": [
        "plt.plot(forex_data.Date, forex_data.Close)\n",
        "plt.show()"
      ],
      "execution_count": 0,
      "outputs": [
        {
          "output_type": "display_data",
          "data": {
            "image/png": "[encoded data removed]",
            "text/plain": [
              "<Figure size 432x288 with 1 Axes>"
            ]
          },
          "metadata": {
            "tags": [],
            "needs_background": "light"
          }
        }
      ]
    },
    {
      "cell_type": "code",
      "metadata": {
        "id": "GnHH6GU8ArSX",
        "colab_type": "code",
        "outputId": "711ea0db-c5bf-4b08-bf24-ca2736d32dc5",
        "colab": {
          "base_uri": "https://localhost:8080/",
          "height": 34
        }
      },
      "source": [
        "forex_data.Close.isna().sum()"
      ],
      "execution_count": 0,
      "outputs": [
        {
          "output_type": "execute_result",
          "data": {
            "text/plain": [
              "0"
            ]
          },
          "metadata": {
            "tags": []
          },
          "execution_count": 29
        }
      ]
    },
    {
      "cell_type": "markdown",
      "metadata": {
        "id": "AyWvkieu99mZ",
        "colab_type": "text"
      },
      "source": [
        "finding SMA"
      ]
    },
    {
      "cell_type": "code",
      "metadata": {
        "id": "lxZGmZre-ADV",
        "colab_type": "code",
        "colab": {}
      },
      "source": [
        "rolling_mean = forex_data.Close.rolling(window=200).mean()\n",
        "rolling_mean2 = forex_data.Close.rolling(window=50).mean()"
      ],
      "execution_count": 0,
      "outputs": []
    },
    {
      "cell_type": "code",
      "metadata": {
        "id": "QVkldaY6-9mn",
        "colab_type": "code",
        "outputId": "0f8df7e1-8dbf-42b3-add3-72944954f9f2",
        "colab": {
          "base_uri": "https://localhost:8080/",
          "height": 265
        }
      },
      "source": [
        "plt.plot(forex_data.Date, forex_data.Close, label='USD/INR Close')\n",
        "plt.plot(forex_data.Date, rolling_mean, label='USD/INR 200 Day SMA', color='orange')\n",
        "plt.plot(forex_data.Date, rolling_mean2, label='USD/INR 50 Day SMA', color='magenta')\n",
        "plt.legend(loc='upper left')\n",
        "plt.show()"
      ],
      "execution_count": 0,
      "outputs": [
        {
          "output_type": "display_data",
          "data": {
            "image/png": "[encoded data removed]",
            "text/plain": [
              "<Figure size 432x288 with 1 Axes>"
            ]
          },
          "metadata": {
            "tags": [],
            "needs_background": "light"
          }
        }
      ]
    },
    {
      "cell_type": "code",
      "metadata": {
        "id": "mfT7Jabn_14N",
        "colab_type": "code",
        "outputId": "331360a1-1a91-44fa-c4e7-6dcbb5efd2bf",
        "colab": {
          "base_uri": "https://localhost:8080/",
          "height": 34
        }
      },
      "source": [
        "rolling_mean.isna().sum()\n",
        "rolling_mean.shape"
      ],
      "execution_count": 0,
      "outputs": [
        {
          "output_type": "execute_result",
          "data": {
            "text/plain": [
              "(1303,)"
            ]
          },
          "metadata": {
            "tags": []
          },
          "execution_count": 35
        }
      ]
    },
    {
      "cell_type": "code",
      "metadata": {
        "id": "2BNXPhj2GugP",
        "colab_type": "code",
        "outputId": "0af949e2-2e6f-48f9-c926-e8f7b77edcf2",
        "colab": {
          "base_uri": "https://localhost:8080/",
          "height": 51
        }
      },
      "source": [
        "buy_rate = 0\n",
        "sell_rate = 0\n",
        "target = 0\n",
        "stoploss = 0\n",
        "currRate = 0\n",
        "isBought = 0\n",
        "isSold = 1\n",
        "totalProfit = 0\n",
        "print(rolling_mean[200])\n",
        "print(rolling_mean[198])"
      ],
      "execution_count": 0,
      "outputs": [
        {
          "output_type": "stream",
          "text": [
            "65.61517512999998\n",
            "nan\n"
          ],
          "name": "stdout"
        }
      ]
    },
    {
      "cell_type": "code",
      "metadata": {
        "id": "FnTs-wT3EQ-E",
        "colab_type": "code",
        "outputId": "724b85c9-2bfb-4392-e4e8-4407c4ac20f9",
        "colab": {
          "base_uri": "https://localhost:8080/",
          "height": 1000
        }
      },
      "source": [
        "for i in range(250,1302):\n",
        "  currRate = forex_data.Close[i]\n",
        "  if(isSold==1):\n",
        "    if(rolling_mean2[i]>rolling_mean[i]):\n",
        "      isSold = 0\n",
        "      isBought = 1\n",
        "      print(\"Buy\")\n",
        "      \n",
        "      stoploss = (rolling_mean2[i]+rolling_mean2[i-1]+rolling_mean2[i-2])/3\n",
        "      target = currRate+(currRate-stoploss)*2\n",
        "      print(\"target\",target)\n",
        "      buy_rate=currRate\n",
        "      print(\"Buy rate\",buy_rate)\n",
        "  elif(isBought==1):\n",
        "    if(currRate<=stoploss or currRate>=target):\n",
        "      print(\"sell at\",currRate)\n",
        "      sell_rate= currRate\n",
        "      isBought = 0\n",
        "      isSold = 1\n",
        "      print((sell_rate-buy_rate))\n",
        "      totalProfit=totalProfit+(sell_rate-buy_rate)\n",
        "   "
      ],
      "execution_count": 0,
      "outputs": [
        {
          "output_type": "stream",
          "text": [
            "Buy\n",
            "target 66.0165688266668\n",
            "Buy rate 66.592003\n",
            "sell at 66.620003\n",
            "0.027999999999991587\n",
            "Buy\n",
            "target 66.20564382666679\n",
            "Buy rate 66.601997\n",
            "sell at 66.594002\n",
            "-0.00799499999999398\n",
            "Buy\n",
            "target 66.72152248000012\n",
            "Buy rate 66.721001\n",
            "sell at 66.666\n",
            "-0.055001000000004296\n",
            "Buy\n",
            "target 66.43935520000011\n",
            "Buy rate 66.591003\n",
            "sell at 66.750999\n",
            "0.15999599999999248\n",
            "Buy\n",
            "target 67.41285876000009\n",
            "Buy rate 66.900002\n",
            "sell at 67.476997\n",
            "0.5769949999999966\n",
            "Buy\n",
            "target 69.00239033333342\n",
            "Buy rate 67.422997\n",
            "sell at 66.510002\n",
            "-0.9129949999999951\n",
            "Buy\n",
            "target 66.75446957333338\n",
            "Buy rate 66.740997\n",
            "sell at 66.945\n",
            "0.20400300000000016\n",
            "Buy\n",
            "target 67.94916904000007\n",
            "Buy rate 67.153999\n",
            "sell at 66.648003\n",
            "-0.5059959999999961\n",
            "Buy\n",
            "target 65.85131638666662\n",
            "Buy rate 66.750999\n",
            "sell at 66.67600300000001\n",
            "-0.07499599999998452\n",
            "Buy\n",
            "target 65.94049854666669\n",
            "Buy rate 66.760002\n",
            "sell at 66.841003\n",
            "0.08100100000000054\n",
            "Buy\n",
            "target 66.19852950666667\n",
            "Buy rate 66.834999\n",
            "sell at 66.793999\n",
            "-0.04099999999999682\n",
            "Buy\n",
            "target 66.06408376000002\n",
            "Buy rate 66.782997\n",
            "sell at 66.758003\n",
            "-0.02499399999999241\n",
            "Buy\n",
            "target 65.97672700000003\n",
            "Buy rate 66.739998\n",
            "sell at 66.899597\n",
            "0.15959900000000005\n",
            "Buy\n",
            "target 66.37666877333332\n",
            "Buy rate 66.864899\n",
            "sell at 66.857697\n",
            "-0.007201999999992381\n",
            "Buy\n",
            "target 66.49020729333334\n",
            "Buy rate 66.905502\n",
            "sell at 66.82\n",
            "-0.0855020000000053\n",
            "Buy\n",
            "target 67.13985789333334\n",
            "Buy rate 67.127502\n",
            "sell at 67.187401\n",
            "0.05989899999998727\n",
            "Buy\n",
            "target 67.14277208000001\n",
            "Buy rate 67.129997\n",
            "sell at 67.160004\n",
            "0.030006999999997674\n",
            "Buy\n",
            "target 66.77531421333337\n",
            "Buy rate 67.0056\n",
            "sell at 67.128998\n",
            "0.12339799999999457\n",
            "Buy\n",
            "target 67.03423289333337\n",
            "Buy rate 67.089996\n",
            "sell at 67.126602\n",
            "0.036606000000006134\n",
            "Buy\n",
            "target 66.70732261333332\n",
            "Buy rate 66.974701\n",
            "sell at 66.792999\n",
            "-0.18170200000000136\n",
            "Buy\n",
            "target 65.54930212000002\n",
            "Buy rate 66.5728\n",
            "sell at 66.459999\n",
            "-0.11280100000000459\n",
            "Buy\n",
            "target 72.31809708000006\n",
            "Buy rate 68.745499\n",
            "sell at 66.7453\n",
            "-2.000198999999995\n",
            "Buy\n",
            "target 64.90289724000002\n",
            "Buy rate 66.84369699999999\n",
            "sell at 66.915398\n",
            "0.07170100000000446\n",
            "Buy\n",
            "target 64.7921401733334\n",
            "Buy rate 66.775902\n",
            "sell at 66.865501\n",
            "0.08959899999999266\n",
            "Buy\n",
            "target 66.0170097600001\n",
            "Buy rate 67.164803\n",
            "sell at 67.065201\n",
            "-0.09960200000000441\n",
            "Buy\n",
            "target 65.44814874666675\n",
            "Buy rate 66.964996\n",
            "sell at 66.965103\n",
            "0.00010699999999985721\n",
            "Buy\n",
            "target 65.33672170666674\n",
            "Buy rate 66.914299\n",
            "sell at 66.6828\n",
            "-0.23149899999999946\n",
            "Buy\n",
            "target 64.5755933066667\n",
            "Buy rate 66.635002\n",
            "sell at 66.69319899999999\n",
            "0.05819699999999273\n",
            "Buy\n",
            "target 64.8798650133334\n",
            "Buy rate 66.705101\n",
            "sell at 66.858002\n",
            "0.15290099999999995\n",
            "Buy\n",
            "target 65.38597801333341\n",
            "Buy rate 66.8451\n",
            "sell at 66.773003\n",
            "-0.07209699999999941\n",
            "Buy\n",
            "target 64.9271362400001\n",
            "Buy rate 66.664703\n",
            "sell at 66.616203\n",
            "-0.048500000000004206\n",
            "Buy\n",
            "target 65.32690425333344\n",
            "Buy rate 66.764999\n",
            "sell at 66.68049599999999\n",
            "-0.08450300000001221\n",
            "Buy\n",
            "target 64.59619840000009\n",
            "Buy rate 66.485001\n",
            "sell at 66.170097\n",
            "-0.3149039999999985\n",
            "Buy\n",
            "target 62.60775725333343\n",
            "Buy rate 65.775101\n",
            "sell at 65.620499\n",
            "-0.15460200000001123\n",
            "Buy\n",
            "target 61.68011922666673\n",
            "Buy rate 65.404503\n",
            "sell at 65.468102\n",
            "0.06359899999999641\n",
            "Buy\n",
            "target 65.96030215999998\n",
            "Buy rate 65.209999\n",
            "sell at 64.761299\n",
            "-0.4487000000000023\n",
            "Buy\n",
            "target 64.47770561333336\n",
            "Buy rate 64.769997\n",
            "sell at 64.579399\n",
            "-0.19059800000000848\n",
            "Buy\n",
            "target 63.75384594666667\n",
            "Buy rate 64.54499799999999\n",
            "sell at 64.433899\n",
            "-0.11109899999999584\n",
            "Buy\n",
            "target 63.50049497333333\n",
            "Buy rate 64.470001\n",
            "sell at 64.414803\n",
            "-0.05519799999999009\n",
            "Buy\n",
            "target 63.57172017333336\n",
            "Buy rate 64.499397\n",
            "sell at 64.509003\n",
            "0.00960600000000511\n",
            "Buy\n",
            "target 63.13545101333338\n",
            "Buy rate 64.35140200000001\n",
            "sell at 64.356903\n",
            "0.005500999999995315\n",
            "Buy\n",
            "target 63.6804881066667\n",
            "Buy rate 64.515198\n",
            "sell at 64.542397\n",
            "0.027198999999995976\n",
            "Buy\n",
            "target 63.62629420000003\n",
            "Buy rate 64.473\n",
            "sell at 64.349998\n",
            "-0.12300199999999961\n",
            "Buy\n",
            "target 63.93283524000006\n",
            "Buy rate 64.550003\n",
            "sell at 64.32\n",
            "-0.23000300000001062\n",
            "Buy\n",
            "target 63.187530826666716\n",
            "Buy rate 64.275002\n",
            "sell at 64.072304\n",
            "-0.20269799999999805\n",
            "Buy\n",
            "target 63.044191280000064\n",
            "Buy rate 64.20010400000001\n",
            "sell at 64.0476\n",
            "-0.15250400000000752\n",
            "Buy\n",
            "target 62.439863013333394\n",
            "Buy rate 63.965\n",
            "sell at 64.009697\n",
            "0.04469699999999932\n",
            "Buy\n",
            "target 62.66617934666671\n",
            "Buy rate 64.007797\n",
            "sell at 64.010498\n",
            "0.002701000000001841\n",
            "Buy\n",
            "target 62.797562440000064\n",
            "Buy rate 64.028198\n",
            "sell at 64.114998\n",
            "0.08679999999999666\n",
            "Buy\n",
            "target 62.96030074666672\n",
            "Buy rate 64.061996\n",
            "sell at 63.840801\n",
            "-0.22119499999999448\n",
            "Buy\n",
            "target 62.45889666666672\n",
            "Buy rate 63.867599\n",
            "sell at 63.459998999999996\n",
            "-0.4076000000000022\n",
            "Buy\n",
            "target 61.224699013333414\n",
            "Buy rate 63.419102\n",
            "sell at 63.369597999999996\n",
            "-0.04950400000000599\n",
            "Buy\n",
            "target 66.18370006666684\n",
            "Buy rate 65.014999\n",
            "sell at 66.196899\n",
            "1.1818999999999988\n",
            "Buy\n",
            "target 69.63959078666682\n",
            "Buy rate 66.54499799999999\n",
            "sell at 69.949097\n",
            "3.404099000000002\n",
            "Buy\n",
            "target 72.91928365333334\n",
            "Buy rate 69.949997\n",
            "sell at 72.989998\n",
            "3.0400010000000037\n",
            "Buy\n",
            "target 76.51040858666668\n",
            "Buy rate 71.925201\n",
            "sell at 69.525002\n",
            "-2.4001990000000006\n",
            "Buy\n",
            "target 66.6673097600001\n",
            "Buy rate 69.809998\n",
            "sell at 70.33000200000001\n",
            "0.5200040000000143\n",
            "Buy\n",
            "target 69.17308877333343\n",
            "Buy rate 70.550499\n",
            "sell at 70.720001\n",
            "0.16950199999999427\n",
            "Buy\n",
            "target 68.87258733333343\n",
            "Buy rate 70.370003\n",
            "sell at 71.084999\n",
            "0.7149959999999993\n",
            "Buy\n",
            "target 71.21804196000014\n",
            "Buy rate 71.092499\n",
            "sell at 71.364998\n",
            "0.27249899999999627\n",
            "Buy\n",
            "target 71.16380013333345\n",
            "Buy rate 71.030197\n",
            "sell at 71.230003\n",
            "0.19980599999999527\n",
            "Buy\n",
            "target 72.69207053333344\n",
            "Buy rate 71.5\n",
            "sell at 70.809998\n",
            "-0.6900020000000069\n",
            "Buy\n",
            "target 70.73143606666667\n",
            "Buy rate 70.86509699999999\n",
            "sell at 71.010002\n",
            "0.1449050000000085\n",
            "Buy\n",
            "target 72.08754246666669\n",
            "Buy rate 71.32\n",
            "sell at 70.816002\n",
            "-0.5039979999999957\n",
            "Buy\n",
            "target 71.22083690666669\n",
            "Buy rate 70.989998\n",
            "sell at 70.7425\n",
            "-0.2474979999999931\n",
            "Buy\n",
            "target 69.2736234533334\n",
            "Buy rate 70.364998\n",
            "sell at 70.487503\n",
            "0.12250500000000386\n",
            "Buy\n",
            "target 68.11277074666673\n",
            "Buy rate 69.9869\n",
            "sell at 69.7901\n",
            "-0.1968000000000103\n",
            "Buy\n",
            "target 67.67478698666667\n",
            "Buy rate 69.845001\n",
            "sell at 69.726303\n",
            "-0.11869799999999486\n",
            "Buy\n",
            "target 66.1660928133334\n",
            "Buy rate 69.337303\n",
            "sell at 68.95300300000001\n",
            "-0.3842999999999961\n",
            "Buy\n",
            "target 76.30924678666668\n",
            "Buy rate 72.220001\n",
            "sell at 76.505997\n",
            "4.285995999999997\n",
            "Buy\n",
            "target 86.96081474666677\n",
            "Buy rate 77.260002\n"
          ],
          "name": "stdout"
        }
      ]
    },
    {
      "cell_type": "code",
      "metadata": {
        "id": "TR21s3xALaQh",
        "colab_type": "code",
        "outputId": "691385ed-c79e-4990-ef1c-29045b296f6c",
        "colab": {
          "base_uri": "https://localhost:8080/",
          "height": 34
        }
      },
      "source": [
        "print(totalProfit*1000)"
      ],
      "execution_count": 0,
      "outputs": [
        {
          "output_type": "stream",
          "text": [
            "4378.638999999957\n"
          ],
          "name": "stdout"
        }
      ]
    }
  ]
}